{
 "cells": [
  {
   "cell_type": "code",
   "execution_count": 23,
   "metadata": {},
   "outputs": [
    {
     "name": "stdout",
     "output_type": "stream",
     "text": [
      "   Unnamed: 0  detail_age  month_of_death  male  binary_suicide\n",
      "0           0          68               1     0               0\n",
      "1           1          12               1     0               0\n",
      "2           2          75               1     0               0\n",
      "3           3          61               1     1               0\n",
      "4           4          46               1     0               1\n"
     ]
    }
   ],
   "source": [
    "#File loading method stack overflow link: https://stackoverflow.com/questions/20906474/import-multiple-csv-files-into-pandas-and-concatenate-into-one-dataframe\n",
    "#All dataframe methods learned from pandas documentation\n",
    "#np.where learned from numpy documentation\n",
    "\n",
    "import numpy as np\n",
    "import pandas as pd\n",
    "import glob\n",
    "import os\n",
    "from sklearn.linear_model import SGDClassifier\n",
    "from sklearn.metrics import accuracy_score, precision_score\n",
    "from sklearn import preprocessing\n",
    "\n",
    "filename = 'MortalityCondensed.csv'\n",
    "pd.set_option('display.max_columns',500)\n",
    "\n",
    "def process_files(local_path):\n",
    "    #Load all .csv files in the mortality directory\n",
    "    all_files = glob.glob(local_path + \"/*.csv\")\n",
    "    dataframe = pd.DataFrame()\n",
    "    file_list = []\n",
    "\n",
    "    for file in all_files:\n",
    "        df = pd.read_csv(file, index_col = None, header = 0, low_memory = False)\n",
    "        #dfInterest = df[['sex','detail_age','month_of_death','education_2003_revision','39_cause_recode']] #Isolate columns we need\n",
    "        dfInterest = df[['sex','detail_age','month_of_death','39_cause_recode']]\n",
    "        dfInterest['male'] = np.where(dfInterest['sex']=='M', 1, 0)\n",
    "        dfInterest['binary_suicide'] = np.where(dfInterest['39_cause_recode']==40, 1, 0) #create the binary suicide column\n",
    "        file_list.append(dfInterest) #add the new dataframe to the list\n",
    "\n",
    "    dataframe = pd.concat(file_list) #concat the whole list to the final dataframe\n",
    "    finaldf = dataframe.drop(columns=['39_cause_recode', 'sex'])\n",
    "\n",
    "    finaldf.to_csv(filename)\n",
    "    finaldf.head()\n",
    "\n",
    "# To be expanded on later\n",
    "def sample_classification():\n",
    "    #alpha_arr = [0.0001,0.001,0.01,0.1,1.0,10.0,100.0]\n",
    "    alpha_arr = [0.01]\n",
    "    train_acc = []\n",
    "    test_acc = []\n",
    "    for a in alpha_arr:    \n",
    "        classifier = SGDClassifier(loss='log', max_iter=1000, tol=1.0e-12, random_state=123, alpha=a)\n",
    "        classifier.fit(X_train, Y_train)\n",
    "        # Add to accuracy lists\n",
    "        train_acc.append(accuracy_score(Y_train, classifier.predict(X_train)))\n",
    "        test_acc.append(accuracy_score(Y_test, classifier.predict(X_test)))\n",
    "\n",
    "    print(train_acc)\n",
    "    print(test_acc)\n",
    "    \n",
    "def main():\n",
    "    # Check if base_file exists\n",
    "    # If not, create it\n",
    "    if not os.path.isfile(filename):\n",
    "        process_files(\"mortality\")\n",
    "    df = pd.read_csv(filename, header=0, encoding='ISO-8859-1')\n",
    "    print(df.head())\n",
    "    \n",
    "    # Split into training and test\n",
    "    # https://stackoverflow.com/questions/24147278/how-do-i-create-test-and-train-samples-from-one-dataframe-with-pandas\n",
    "    msk = np.random.rand(len(df)) < 0.8\n",
    "    train = df[msk]\n",
    "    test = df[~msk]\n",
    "\n",
    "    Y_train = train.iloc[:,len(train.columns)-1]\n",
    "    X_train = train.iloc[:,1:(len(train.columns)-1)]\n",
    "    Y_test = test.iloc[:,len(test.columns)-1]\n",
    "    X_test = test.iloc[:,1:(len(test.columns)-1)]\n",
    "    #sample_classification()\n",
    "    \n",
    "if __name__ == '__main__':\n",
    "    main()"
   ]
  },
  {
   "cell_type": "code",
   "execution_count": null,
   "metadata": {},
   "outputs": [],
   "source": []
  },
  {
   "cell_type": "code",
   "execution_count": null,
   "metadata": {},
   "outputs": [],
   "source": []
  }
 ],
 "metadata": {
  "kernelspec": {
   "display_name": "Python 3",
   "language": "python",
   "name": "python3"
  },
  "language_info": {
   "codemirror_mode": {
    "name": "ipython",
    "version": 3
   },
   "file_extension": ".py",
   "mimetype": "text/x-python",
   "name": "python",
   "nbconvert_exporter": "python",
   "pygments_lexer": "ipython3",
   "version": "3.6.3"
  }
 },
 "nbformat": 4,
 "nbformat_minor": 2
}
