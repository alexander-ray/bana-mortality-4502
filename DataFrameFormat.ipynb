{
 "cells": [
  {
   "cell_type": "markdown",
   "metadata": {},
   "source": [
    "# Mortality Data Analysis"
   ]
  },
  {
   "cell_type": "markdown",
   "metadata": {},
   "source": [
    "### Preprocessing"
   ]
  },
  {
   "cell_type": "code",
   "execution_count": 23,
   "metadata": {},
   "outputs": [],
   "source": [
    "#File loading method stack overflow link: https://stackoverflow.com/questions/20906474/import-multiple-csv-files-into-pandas-and-concatenate-into-one-dataframe\n",
    "#All dataframe methods learned from pandas documentation\n",
    "#np.where learned from numpy documentation\n",
    "\n",
    "import numpy as np\n",
    "import pandas as pd\n",
    "import glob\n",
    "import os\n",
    "import pickle\n",
    "from sklearn.linear_model import SGDClassifier\n",
    "from sklearn.tree import DecisionTreeClassifier\n",
    "from sklearn.linear_model import LogisticRegression\n",
    "from sklearn.model_selection import GridSearchCV\n",
    "from sklearn.metrics import accuracy_score, precision_score\n",
    "from sklearn import preprocessing\n",
    "import matplotlib.pyplot as plt\n",
    "\n",
    "\n",
    "filename = 'MortalityCondensed.csv'\n",
    "pd.set_option('display.max_columns',500)\n",
    "pd.options.mode.chained_assignment = None \n",
    "\n",
    "def process_files(local_path):\n",
    "    #Load all .csv files in the mortality directory\n",
    "    all_files = glob.glob(local_path + \"/*.csv\")\n",
    "    dataframe = pd.DataFrame()\n",
    "    file_list = []\n",
    "\n",
    "    for file in all_files:\n",
    "        \n",
    "        df = pd.read_csv(file, index_col = None, header = 0, low_memory = False)\n",
    "         dfInterest = df[['sex','race','detail_age','month_of_death', 'manner_of_death', 'education_2003_revision','education_1989_revision']] #Isolate columns we need
    dfInterest['binary_male'] = np.where(dfInterest['sex']=='M', 1, 0)
    dfInterest['manner_of_death_cleaned'] = np.where(np.isnan(dfInterest['manner_of_death']), 0, dfInterest['manner_of_death'])
    #dfInterest['binary_suicide'] = np.where(dfInterest['manner_of_death']==2, 1, 0) #create the binary suicide column
    
    #Recode education to get rid of NaNs. Code 18 represents where we have no data.
    #dfInterest['education_1989_revision'] = np.where(dfInterest['education_1989_revision'] <= 8, 1, dfInterest['education_1989_revision'])
    #dfInterest['education_recode'] = np.where(type(dfInterest['education_2003_revision'])==str, dfInterest['education_1989_revision'], dfInterest['education_2003_revision'])
    #dfInterest['education_recode'] = np.where(type(dfInterest['education_recode'])==str, 18, dfInterest['education_recode'])
    dfInterest['education_1989_revision'] = dfInterest.fillna(18)
    dfInterest['education_2003_revision'] = dfInterest.fillna(18)
    
    #Recode race to give us more meaningful categories 0 hispanic, 1 white, 2 black, 3 asian
    
    dfInterest['binary_white'] = np.where(dfInterest['race'] == 1, 1, 0)
    dfInterest['binary_black'] = np.where(dfInterest['race'] == 2, 1, 0)
    dfInterest['binary_asian'] = np.where(dfInterest['race'] > 2, 1, 0)
    dfInterest['binary_hispanic'] = np.where(dfInterest['race'] == 0, 1, 0)
   
    file_list.append(dfInterest) #add the new dataframe to the list
dataframe = pd.concat(file_list) #concat the whole list to the final dataframe
finaldf = dataframe.drop(columns=['race', 'sex'])

# Reordering
#finaldf = finaldf[['binary_male', 'binary_white', 'binary_black', 'binary_asian', 'binary_hispanic',
#                   'detail_age', 'month_of_death', 'binary_suicide']]
finaldf = finaldf[['binary_male', 'binary_white', 'binary_black', 'binary_asian', 'binary_hispanic',
                  'detail_age', 'month_of_death', 'manner_of_death_cleaned','education_2003_revision','education_1989_revision']]
finaldf.to_csv(filename)
finaldf.head()
print(finaldf.isnull().sum())#showing number of null values, shoulw be 0 after recode
    "\n"
   ]
  },
  {
   "cell_type": "code",
   "execution_count": 24,
   "metadata": {},
   "outputs": [
    {
     "name": "stdout",
     "output_type": "stream",
     "text": [
      "   Unnamed: 0  binary_male  binary_white  binary_black  binary_asian  \\\n",
      "0           0            0             0             0             1   \n",
      "1           1            0             1             0             0   \n",
      "2           2            0             1             0             0   \n",
      "3           3            1             0             0             1   \n",
      "4           4            0             1             0             0   \n",
      "\n",
      "   binary_hispanic  detail_age  month_of_death  manner_of_death_cleaned  \n",
      "0                0          68               1                      7.0  \n",
      "1                0          12               1                      7.0  \n",
      "2                0          75               1                      7.0  \n",
      "3                0          61               1                      7.0  \n",
      "4                0          46               1                      2.0  \n"
     ]
    }
   ],
   "source": [
    "# Check if base_file exists\n",
    "# If not, create it\n",
    "if not os.path.isfile(filename):\n",
    "    process_files(\"mortality\")\n",
    "df = pd.read_csv(filename, header=0, encoding='ISO-8859-1')\n",
    "print(df.head())\n",
    "\n",
    "new_df = df.sample(int(len(df)/3))\n",
    "#print(df.astype(bool).sum(axis=0))\n",
    "\n",
    "# Split into training and test\n",
    "# https://stackoverflow.com/questions/24147278/how-do-i-create-test-and-train-samples-from-one-dataframe-with-pandas\n",
    "msk = np.random.rand(len(new_df)) < 0.8\n",
    "train = new_df[msk]\n",
    "test = new_df[~msk]\n",
    "\n",
    "Y_train = train.iloc[:,len(train.columns)-1]\n",
    "X_train = train.iloc[:,1:(len(train.columns)-1)]\n",
    "Y_test = test.iloc[:,len(test.columns)-1]\n",
    "X_test = test.iloc[:,1:(len(test.columns)-1)]"
   ]
  },
  {
   "cell_type": "markdown",
   "metadata": {},
   "source": [
    "## Predicting Suicide vs Non-Suicide"
   ]
  },
  {
   "cell_type": "markdown",
   "metadata": {},
   "source": [
    "### Logistic Regression"
   ]
  },
  {
   "cell_type": "code",
   "execution_count": 16,
   "metadata": {},
   "outputs": [
    {
     "data": {
      "image/png": "iVBORw0KGgoAAAANSUhEUgAAAaQAAAEWCAYAAAApTuNLAAAABHNCSVQICAgIfAhkiAAAAAlwSFlz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\nOCCZmVkuOCCZmVkuOCCZmVku/H+yF7oxI4PT7wAAAABJRU5ErkJggg==\n",
      "text/plain": [
       "<matplotlib.figure.Figure at 0x1a11c4d940>"
      ]
     },
     "metadata": {},
     "output_type": "display_data"
    },
    {
     "name": "stdout",
     "output_type": "stream",
     "text": [
      "[0.9847063715313567, 0.9847063715313567, 0.9847063715313567, 0.9847063715313567, 0.9847063715313567, 0.9847063715313567, 0.9847063715313567]\n",
      "[0.9847294069754601, 0.9847294069754601, 0.9847294069754601, 0.9847294069754601, 0.9847294069754601, 0.9847294069754601, 0.9847294069754601]\n",
      "CPU times: user 9min 26s, sys: 5.15 s, total: 9min 32s\n",
      "Wall time: 9min 31s\n"
     ]
    }
   ],
   "source": [
    "%%time\n",
    "alpha_arr = [0.0001,0.001,0.01,0.1,1.0,10.0,100.0]\n",
    "#alpha_arr = [0.01]\n",
    "train_acc = []\n",
    "test_acc = []\n",
    "for a in alpha_arr:    \n",
    "    classifier = SGDClassifier(loss='log', max_iter=200, tol=1.0e-9, random_state=123, alpha=a)\n",
    "    classifier.fit(X_train, Y_train)\n",
    "    # Add to accuracy lists\n",
    "    train_acc.append(accuracy_score(Y_train, classifier.predict(X_train)))\n",
    "    test_acc.append(accuracy_score(Y_test, classifier.predict(X_test)))\n",
    "\n",
    "plt.figure(1)\n",
    "plt.plot(alpha_arr, train_acc, color='blue', lw=2, marker='o', label=\"Training Accuracy\")\n",
    "plt.plot(alpha_arr, test_acc, color='red', lw=2, marker='o', label=\"Testing Accuracy\")\n",
    "\n",
    "plt.xlabel(\"Alpha\")\n",
    "plt.ylabel(\"Accuracy\")\n",
    "plt.title(\"Alpha vs Accuracy Linear Regression\")\n",
    "plt.legend(loc='upper right')\n",
    "plt.show()\n",
    "\n",
    "print(train_acc)\n",
    "print(test_acc)"
   ]
  },
  {
   "cell_type": "code",
   "execution_count": 17,
   "metadata": {},
   "outputs": [
    {
     "ename": "NameError",
     "evalue": "name 'gs_classifier' is not defined",
     "output_type": "error",
     "traceback": [
      "\u001b[0;31m---------------------------------------------------------------------------\u001b[0m",
      "\u001b[0;31mNameError\u001b[0m                                 Traceback (most recent call last)",
      "\u001b[0;32m<ipython-input-17-757e407138fa>\u001b[0m in \u001b[0;36m<module>\u001b[0;34m()\u001b[0m\n\u001b[1;32m      3\u001b[0m \u001b[0;31m# https://stackoverflow.com/questions/19201290/how-to-save-a-dictionary-to-a-filew\u001b[0m\u001b[0;34m\u001b[0m\u001b[0;34m\u001b[0m\u001b[0m\n\u001b[1;32m      4\u001b[0m \u001b[0;32mwith\u001b[0m \u001b[0mopen\u001b[0m\u001b[0;34m(\u001b[0m\u001b[0mlog_reg_fn\u001b[0m\u001b[0;34m,\u001b[0m \u001b[0;34m'wb'\u001b[0m\u001b[0;34m)\u001b[0m \u001b[0;32mas\u001b[0m \u001b[0mf\u001b[0m\u001b[0;34m:\u001b[0m\u001b[0;34m\u001b[0m\u001b[0m\n\u001b[0;32m----> 5\u001b[0;31m     \u001b[0mpickle\u001b[0m\u001b[0;34m.\u001b[0m\u001b[0mdump\u001b[0m\u001b[0;34m(\u001b[0m\u001b[0mgs_classifier\u001b[0m\u001b[0;34m.\u001b[0m\u001b[0mcv_results_\u001b[0m\u001b[0;34m,\u001b[0m \u001b[0mf\u001b[0m\u001b[0;34m)\u001b[0m\u001b[0;34m\u001b[0m\u001b[0m\n\u001b[0m\u001b[1;32m      6\u001b[0m \u001b[0;34m\u001b[0m\u001b[0m\n\u001b[1;32m      7\u001b[0m \u001b[0;31m# Load data\u001b[0m\u001b[0;34m\u001b[0m\u001b[0;34m\u001b[0m\u001b[0m\n",
      "\u001b[0;31mNameError\u001b[0m: name 'gs_classifier' is not defined"
     ]
    }
   ],
   "source": [
    "### ONLY USEFUL IF WE USE GRIDSEARCH CV, MIGHT BE TOO SLOW\n",
    "# Save output dict just in case\n",
    "# https://stackoverflow.com/questions/19201290/how-to-save-a-dictionary-to-a-filew\n",
    "with open(log_reg_fn, 'wb') as f:\n",
    "    pickle.dump(gs_classifier.cv_results_, f)\n",
    "\n",
    "# Load data\n",
    "log_reg_res = {}\n",
    "with open(log_reg_fn, 'rb') as f:\n",
    "    log_reg_res = pickle.load(f)"
   ]
  },
  {
   "cell_type": "markdown",
   "metadata": {},
   "source": [
    "### Decision Tree"
   ]
  },
  {
   "cell_type": "code",
   "execution_count": 22,
   "metadata": {},
   "outputs": [
    {
     "name": "stdout",
     "output_type": "stream",
     "text": [
      "[0.9847071831155852]\n",
      "[0.9847212869111058]\n",
      "[0.07194914 0.00268682 0.09519335 0.00295307 0.         0.80557847\n",
      " 0.02163915]\n",
      "CPU times: user 44.9 s, sys: 586 ms, total: 45.5 s\n",
      "Wall time: 45.6 s\n"
     ]
    }
   ],
   "source": [
    "%%time\n",
    "train_acc = []\n",
    "test_acc = []\n",
    "clf = DecisionTreeClassifier(random_state=123)\n",
    "clf.fit(X_train, Y_train)\n",
    "\n",
    "train_acc.append(accuracy_score(Y_train, clf.predict(X_train)))\n",
    "test_acc.append(accuracy_score(Y_test, clf.predict(X_test)))\n",
    "print(train_acc)\n",
    "print(test_acc)\n",
    "print(clf.feature_importances_)"
   ]
  },
  {
   "cell_type": "markdown",
   "metadata": {},
   "source": [
    "### Linear SVM"
   ]
  },
  {
   "cell_type": "code",
   "execution_count": null,
   "metadata": {},
   "outputs": [],
   "source": [
    "svm_fn = 'svm_gridsearch_output.pkl'\n",
    "\n",
    "# Base svm classifier\n",
    "base_classifier = SGDClassifier(max_iter=1000, tol=1.0e-12, random_state=123)\n",
    "# Define alpha as param to search over\n",
    "svm_alpha_arr = np.asarray([0.0001, 0.001, 0.01, 0.1, 1.0])\n",
    "params = {'alpha': svm_alpha_arr}\n",
    "# Fit to training data, 5 fold CV\n",
    "gs_classifier = GridSearchCV(base_classifier, params, scoring='accuracy', cv=5)\n",
    "gs_classifier.fit(X_train, Y_train)\n",
    "\n",
    "print(\"Best parameter settings:\", gs_classifier.best_params_)\n",
    "print(\"Validation accuracy: %0.6f\" % gs_classifier.best_score_)\n",
    "print(\"Test accuracy: %0.6f\" % accuracy_score(Y_test, gs_classifier.predict(X_test)))\n",
    "\n",
    "# Save output dict just in case\n",
    "# https://stackoverflow.com/questions/19201290/how-to-save-a-dictionary-to-a-filew\n",
    "with open(svm_fn, 'wb') as f:\n",
    "    pickle.dump(gs_classifier.cv_results_, f)"
   ]
  },
  {
   "cell_type": "code",
   "execution_count": null,
   "metadata": {},
   "outputs": [],
   "source": [
    "# Load data\n",
    "svm_res = {}\n",
    "with open(log_reg_fn, 'rb') as f:\n",
    "    svm = pickle.load(f)\n",
    "    \n",
    "plt.figure(1)\n",
    "plt.plot(svm_alpha_arr, svm_res['mean_train_score'], color='blue', lw=2, marker='o', label=\"Mean Training Accuracy\")\n",
    "plt.plot(svm_alpha_arr, svm_res['mean_test_score'], color='red', lw=2, marker='o', label=\"Mean Testing Accuracy\")\n",
    "\n",
    "plt.xlabel(\"Alpha\")\n",
    "plt.ylabel(\"Accuracy\")\n",
    "plt.title(\"Alpha vs Accuracy Linear Regression\")\n",
    "plt.legend(loc='upper right')\n",
    "plt.show()"
   ]
  },
  {
   "cell_type": "markdown",
   "metadata": {},
   "source": [
    "## Multiclass Classification on Manner of Death"
   ]
  },
  {
   "cell_type": "markdown",
   "metadata": {},
   "source": [
    "### Multinomial Logistic Regression"
   ]
  },
  {
   "cell_type": "code",
   "execution_count": 28,
   "metadata": {},
   "outputs": [
    {
     "data": {
      "image/png": "iVBORw0KGgoAAAANSUhEUgAAAZgAAAEWCAYAAABbgYH9AAAABHNCSVQICAgIfAhkiAAAAAlwSFlz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\n",
      "text/plain": [
       "<matplotlib.figure.Figure at 0x1a122fa908>"
      ]
     },
     "metadata": {},
     "output_type": "display_data"
    },
    {
     "name": "stdout",
     "output_type": "stream",
     "text": [
      "[0.7150782639134419]\n",
      "[0.7146173113304088]\n"
     ]
    }
   ],
   "source": [
    "#c_arr = [0.0001,0.001,0.01,0.1,1.0,10.0,100.0]\n",
    "'''\n",
    "c_arr = [1.0]\n",
    "train_acc = []\n",
    "test_acc = []\n",
    "for c in c_arr:    \n",
    "    classifier = LogisticRegression(multi_class='multinomial', solver='lbfgs', random_state=123, C=c)\n",
    "    classifier.fit(X_train, Y_train)\n",
    "    # Add to accuracy lists\n",
    "    train_acc.append(accuracy_score(Y_train, classifier.predict(X_train)))\n",
    "    test_acc.append(accuracy_score(Y_test, classifier.predict(X_test)))\n",
    "'''\n",
    "plt.figure(1)\n",
    "plt.plot(c_arr, train_acc, color='blue', lw=2, marker='o', label=\"Training Accuracy\")\n",
    "plt.plot(c_arr, test_acc, color='red', lw=2, marker='o', label=\"Testing Accuracy\")\n",
    "\n",
    "plt.xlabel(\"Alpha\")\n",
    "plt.ylabel(\"Accuracy\")\n",
    "plt.title(\"Alpha vs Accuracy Multinomial Logistic Regression\")\n",
    "plt.legend(loc='upper right')\n",
    "plt.show()\n",
    "\n",
    "print(train_acc)\n",
    "print(test_acc)"
   ]
  },
  {
   "cell_type": "code",
   "execution_count": null,
   "metadata": {},
   "outputs": [],
   "source": []
  }
 ],
 "metadata": {
  "kernelspec": {
   "display_name": "Python 3",
   "language": "python",
   "name": "python3"
  },
  "language_info": {
   "codemirror_mode": {
    "name": "ipython",
    "version": 3
   },
   "file_extension": ".py",
   "mimetype": "text/x-python",
   "name": "python",
   "nbconvert_exporter": "python",
   "pygments_lexer": "ipython3",
   "version": "3.6.3"
  }
 },
 "nbformat": 4,
 "nbformat_minor": 2
}
