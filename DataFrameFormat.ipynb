{
 "cells": [
  {
   "cell_type": "markdown",
   "metadata": {},
   "source": [
    "# Mortality Data Analysis"
   ]
  },
  {
   "cell_type": "markdown",
   "metadata": {},
   "source": [
    "### Preprocessing"
   ]
  },
  {
   "cell_type": "code",
   "execution_count": 12,
   "metadata": {
    "collapsed": true
   },
   "outputs": [],
   "source": [
    "def education_calc(row):\n",
    "    flag = row['education_reporting_flag']\n",
    "    rev_89 = row['education_1989_revision']\n",
    "    rev_03 = row['education_2003_revision']\n",
    "    \n",
    "    # 1989 recode\n",
    "    if flag == 0:\n",
    "        # If not stated\n",
    "        if rev_89 == 99:\n",
    "            return 0\n",
    "        # If primary school or less\n",
    "        elif rev_89 >= 0 and rev_89 <= 8:\n",
    "            return 1\n",
    "        # If some amount of secondary school\n",
    "        elif rev_89 >= 9 and rev_89 <= 12:\n",
    "            return 2\n",
    "        # Complete or currently working on associate's or bachelor's degree\n",
    "        elif rev_89 >= 13 and rev_89 <= 16:\n",
    "            return 3\n",
    "        # >4 years of school\n",
    "        else:\n",
    "            return 4\n",
    "    # 2003 recode\n",
    "    elif flag == 1:\n",
    "        # \"unknown\"\n",
    "        if rev_03 == 9:\n",
    "            return 0\n",
    "        # primary school\n",
    "        elif rev_03 == 1:\n",
    "            return 1\n",
    "        # Some amount of secondary school\n",
    "        elif rev_03 == 2 or rev_03 == 3:\n",
    "            return 2\n",
    "        # College up to bachelors\n",
    "        elif rev_03 == 4 or rev_03 == 5 or rev_03 == 6:\n",
    "            return 3\n",
    "        # >4 years\n",
    "        else:\n",
    "            return 4\n",
    "    # Nothing reported\n",
    "    else:\n",
    "        return 0"
   ]
  },
  {
   "cell_type": "code",
   "execution_count": 13,
   "metadata": {
    "collapsed": true
   },
   "outputs": [],
   "source": [
    "## Here we concatinate all csv's into one single one.\n",
    "#File loading method stack overflow link: https://stackoverflow.com/questions/20906474/import-multiple-csv-files-into-pandas-and-concatenate-into-one-dataframe\n",
    "#All dataframe methods learned from pandas documentation\n",
    "#np.where learned from numpy documentation\n",
    "\n",
    "import numpy as np\n",
    "import pandas as pd\n",
    "import glob\n",
    "import os\n",
    "import pickle\n",
    "from sklearn.linear_model import SGDClassifier\n",
    "from sklearn.tree import DecisionTreeClassifier\n",
    "from sklearn.ensemble import BaggingClassifier\n",
    "from sklearn.linear_model import LogisticRegression\n",
    "from sklearn.model_selection import GridSearchCV\n",
    "from sklearn.metrics import accuracy_score, precision_score\n",
    "from sklearn import preprocessing\n",
    "import matplotlib.pyplot as plt\n",
    "\n",
    "\n",
    "filename = 'MortalityCondensed.csv'\n",
    "pd.set_option('display.max_columns', 500)\n",
    "pd.options.mode.chained_assignment = None \n",
    "\n",
    "def process_files(local_path):\n",
    "    #Load all .csv files in the mortality directory\n",
    "    all_files = glob.glob(local_path + \"/*.csv\")\n",
    "    dataframe = pd.DataFrame()\n",
    "    file_list = []\n",
    "\n",
    "    for file in all_files:\n",
    "        df = pd.read_csv(file, index_col = None, header = 0, low_memory = False)\n",
    "\n",
    "        dfInterest = df[['sex','race','detail_age','month_of_death', 'manner_of_death', 'education_reporting_flag','education_2003_revision','education_1989_revision','hispanic_origin']] #Isolate columns we need\n",
    "        dfInterest['binary_male'] = np.where(dfInterest['sex']=='M', 1, 0)\n",
    "        dfInterest['manner_of_death_cleaned'] = np.where(np.isnan(dfInterest['manner_of_death']), 0, dfInterest['manner_of_death'])\n",
    "        #dfInterest['binary_suicide'] = np.where(dfInterest['manner_of_death']==2, 1, 0) #create the binary suicide column\n",
    "\n",
    "        #Recode education to get rid of NaNs. Code 18 represents where we have no data.\n",
    "        dfInterest['education'] = dfInterest.apply(education_calc, axis=1)\n",
    "        print(dfInterest['education'].head())\n",
    "\n",
    "        #Recode race to give us more meaningful categories 0 hispanic, 1 white, 2 black, 3 asian\n",
    "        dfInterest['binary_white'] = np.where(dfInterest['race'] == 1, 1, 0)\n",
    "        dfInterest['binary_black'] = np.where(dfInterest['race'] == 2, 1, 0)\n",
    "        dfInterest['binary_asian'] = np.where(dfInterest['race'] > 2, 1, 0)\n",
    "        dfInterest['binary_hispanic'] = np.where(dfInterest['hispanic_origin'] > 199, 1, 0)        \n",
    "        file_list.append(dfInterest) #add the new dataframe to the list\n",
    "    \n",
    "    dataframe = pd.concat(file_list) #concat the whole list to the final dataframe\n",
    "    finaldf = dataframe.drop(columns=['race', 'sex', 'education_reporting_flag','education_2003_revision','education_1989_revision'])\n",
    "\n",
    "    # Reordering\n",
    "    finaldf = finaldf[['binary_male', 'binary_white', 'binary_black', 'binary_asian', 'binary_hispanic',\n",
    "                      'detail_age', 'month_of_death', 'education','manner_of_death_cleaned']]\n",
    "    finaldf.to_csv(filename)\n",
    "    finaldf.head()\n",
    "    print(finaldf.isnull().sum())#showing number of null values, shoulw be 0 after recode\n"
   ]
  },
  {
   "cell_type": "markdown",
   "metadata": {},
   "source": [
    "## Building Test and Train sets"
   ]
  },
  {
   "cell_type": "code",
   "execution_count": 14,
   "metadata": {},
   "outputs": [
    {
     "name": "stdout",
     "output_type": "stream",
     "text": [
      "7.0    19914162\n",
      "1.0     1350268\n",
      "2.0      423361\n",
      "3.0      200528\n",
      "5.0      119756\n",
      "4.0       55808\n",
      "Name: manner_of_death_cleaned, dtype: int64\n"
     ]
    }
   ],
   "source": [
    "# Check if base_file exists\n",
    "# If not, create it\n",
    "if not os.path.isfile(filename):\n",
    "    process_files(\"mortality\")\n",
    "df = pd.read_csv(filename, header=0, encoding='ISO-8859-1', engine='python')\n",
    "#new_df = df.sample(int(len(df)/4))\n",
    "#print(new_df.head())\n",
    "# Split into training and test\n",
    "# https://stackoverflow.com/questions/24147278/how-do-i-create-test-and-train-samples-from-one-dataframe-with-pandas\n",
    "df = df[df.manner_of_death_cleaned != 0]\n",
    "print(df['manner_of_death_cleaned'].value_counts())\n",
    "\n",
    "msk = np.random.rand(len(df)) < 0.8\n",
    "train = df[msk]\n",
    "test = df[~msk]\n",
    "\n",
    "# 1:Accident\n",
    "# 2:Suicide\n",
    "# 3:Homicide\n",
    "# 4:Pending investigation\n",
    "# 5:Could not determine\n",
    "# 6:Self-Inflicted\n",
    "# 7:Natural"
   ]
  },
  {
   "cell_type": "markdown",
   "metadata": {
    "collapsed": true
   },
   "source": [
    "# Predicting Suicide vs Non-Suicide"
   ]
  },
  {
   "cell_type": "markdown",
   "metadata": {},
   "source": [
    "### Setting up training and test sets"
   ]
  },
  {
   "cell_type": "code",
   "execution_count": 16,
   "metadata": {
    "collapsed": true
   },
   "outputs": [],
   "source": [
    "# Y is 1 only if suicide\n",
    "Y_train = np.where(train.iloc[:,len(train.columns)-1] == 2, 1, 0)\n",
    "X_train = train.iloc[:,1:(len(train.columns)-1)]\n",
    "Y_test = np.where(test.iloc[:,len(test.columns)-1] == 2, 1, 0)\n",
    "X_test = test.iloc[:,1:(len(test.columns)-1)]"
   ]
  },
  {
   "cell_type": "markdown",
   "metadata": {},
   "source": [
    "### Logistic Regression"
   ]
  },
  {
   "cell_type": "code",
   "execution_count": 74,
   "metadata": {
    "collapsed": true
   },
   "outputs": [
    {
     "ename": "KeyboardInterrupt",
     "evalue": "",
     "output_type": "error",
     "traceback": [
      "\u001b[1;31m---------------------------------------------------------------------------\u001b[0m",
      "\u001b[1;31mKeyboardInterrupt\u001b[0m                         Traceback (most recent call last)",
      "\u001b[1;32m<timed exec>\u001b[0m in \u001b[0;36m<module>\u001b[1;34m()\u001b[0m\n",
      "\u001b[1;32mF:\\ToolsAndServices\\Conda\\lib\\site-packages\\sklearn\\grid_search.py\u001b[0m in \u001b[0;36mfit\u001b[1;34m(self, X, y)\u001b[0m\n\u001b[0;32m    836\u001b[0m \u001b[1;33m\u001b[0m\u001b[0m\n\u001b[0;32m    837\u001b[0m         \"\"\"\n\u001b[1;32m--> 838\u001b[1;33m         \u001b[1;32mreturn\u001b[0m \u001b[0mself\u001b[0m\u001b[1;33m.\u001b[0m\u001b[0m_fit\u001b[0m\u001b[1;33m(\u001b[0m\u001b[0mX\u001b[0m\u001b[1;33m,\u001b[0m \u001b[0my\u001b[0m\u001b[1;33m,\u001b[0m \u001b[0mParameterGrid\u001b[0m\u001b[1;33m(\u001b[0m\u001b[0mself\u001b[0m\u001b[1;33m.\u001b[0m\u001b[0mparam_grid\u001b[0m\u001b[1;33m)\u001b[0m\u001b[1;33m)\u001b[0m\u001b[1;33m\u001b[0m\u001b[0m\n\u001b[0m\u001b[0;32m    839\u001b[0m \u001b[1;33m\u001b[0m\u001b[0m\n\u001b[0;32m    840\u001b[0m \u001b[1;33m\u001b[0m\u001b[0m\n",
      "\u001b[1;32mF:\\ToolsAndServices\\Conda\\lib\\site-packages\\sklearn\\grid_search.py\u001b[0m in \u001b[0;36m_fit\u001b[1;34m(self, X, y, parameter_iterable)\u001b[0m\n\u001b[0;32m    572\u001b[0m                                     \u001b[0mself\u001b[0m\u001b[1;33m.\u001b[0m\u001b[0mfit_params\u001b[0m\u001b[1;33m,\u001b[0m \u001b[0mreturn_parameters\u001b[0m\u001b[1;33m=\u001b[0m\u001b[1;32mTrue\u001b[0m\u001b[1;33m,\u001b[0m\u001b[1;33m\u001b[0m\u001b[0m\n\u001b[0;32m    573\u001b[0m                                     error_score=self.error_score)\n\u001b[1;32m--> 574\u001b[1;33m                 \u001b[1;32mfor\u001b[0m \u001b[0mparameters\u001b[0m \u001b[1;32min\u001b[0m \u001b[0mparameter_iterable\u001b[0m\u001b[1;33m\u001b[0m\u001b[0m\n\u001b[0m\u001b[0;32m    575\u001b[0m                 for train, test in cv)\n\u001b[0;32m    576\u001b[0m \u001b[1;33m\u001b[0m\u001b[0m\n",
      "\u001b[1;32mF:\\ToolsAndServices\\Conda\\lib\\site-packages\\sklearn\\externals\\joblib\\parallel.py\u001b[0m in \u001b[0;36m__call__\u001b[1;34m(self, iterable)\u001b[0m\n\u001b[0;32m    787\u001b[0m                 \u001b[1;31m# consumption.\u001b[0m\u001b[1;33m\u001b[0m\u001b[1;33m\u001b[0m\u001b[0m\n\u001b[0;32m    788\u001b[0m                 \u001b[0mself\u001b[0m\u001b[1;33m.\u001b[0m\u001b[0m_iterating\u001b[0m \u001b[1;33m=\u001b[0m \u001b[1;32mFalse\u001b[0m\u001b[1;33m\u001b[0m\u001b[0m\n\u001b[1;32m--> 789\u001b[1;33m             \u001b[0mself\u001b[0m\u001b[1;33m.\u001b[0m\u001b[0mretrieve\u001b[0m\u001b[1;33m(\u001b[0m\u001b[1;33m)\u001b[0m\u001b[1;33m\u001b[0m\u001b[0m\n\u001b[0m\u001b[0;32m    790\u001b[0m             \u001b[1;31m# Make sure that we get a last message telling us we are done\u001b[0m\u001b[1;33m\u001b[0m\u001b[1;33m\u001b[0m\u001b[0m\n\u001b[0;32m    791\u001b[0m             \u001b[0melapsed_time\u001b[0m \u001b[1;33m=\u001b[0m \u001b[0mtime\u001b[0m\u001b[1;33m.\u001b[0m\u001b[0mtime\u001b[0m\u001b[1;33m(\u001b[0m\u001b[1;33m)\u001b[0m \u001b[1;33m-\u001b[0m \u001b[0mself\u001b[0m\u001b[1;33m.\u001b[0m\u001b[0m_start_time\u001b[0m\u001b[1;33m\u001b[0m\u001b[0m\n",
      "\u001b[1;32mF:\\ToolsAndServices\\Conda\\lib\\site-packages\\sklearn\\externals\\joblib\\parallel.py\u001b[0m in \u001b[0;36mretrieve\u001b[1;34m(self)\u001b[0m\n\u001b[0;32m    697\u001b[0m             \u001b[1;32mtry\u001b[0m\u001b[1;33m:\u001b[0m\u001b[1;33m\u001b[0m\u001b[0m\n\u001b[0;32m    698\u001b[0m                 \u001b[1;32mif\u001b[0m \u001b[0mgetattr\u001b[0m\u001b[1;33m(\u001b[0m\u001b[0mself\u001b[0m\u001b[1;33m.\u001b[0m\u001b[0m_backend\u001b[0m\u001b[1;33m,\u001b[0m \u001b[1;34m'supports_timeout'\u001b[0m\u001b[1;33m,\u001b[0m \u001b[1;32mFalse\u001b[0m\u001b[1;33m)\u001b[0m\u001b[1;33m:\u001b[0m\u001b[1;33m\u001b[0m\u001b[0m\n\u001b[1;32m--> 699\u001b[1;33m                     \u001b[0mself\u001b[0m\u001b[1;33m.\u001b[0m\u001b[0m_output\u001b[0m\u001b[1;33m.\u001b[0m\u001b[0mextend\u001b[0m\u001b[1;33m(\u001b[0m\u001b[0mjob\u001b[0m\u001b[1;33m.\u001b[0m\u001b[0mget\u001b[0m\u001b[1;33m(\u001b[0m\u001b[0mtimeout\u001b[0m\u001b[1;33m=\u001b[0m\u001b[0mself\u001b[0m\u001b[1;33m.\u001b[0m\u001b[0mtimeout\u001b[0m\u001b[1;33m)\u001b[0m\u001b[1;33m)\u001b[0m\u001b[1;33m\u001b[0m\u001b[0m\n\u001b[0m\u001b[0;32m    700\u001b[0m                 \u001b[1;32melse\u001b[0m\u001b[1;33m:\u001b[0m\u001b[1;33m\u001b[0m\u001b[0m\n\u001b[0;32m    701\u001b[0m                     \u001b[0mself\u001b[0m\u001b[1;33m.\u001b[0m\u001b[0m_output\u001b[0m\u001b[1;33m.\u001b[0m\u001b[0mextend\u001b[0m\u001b[1;33m(\u001b[0m\u001b[0mjob\u001b[0m\u001b[1;33m.\u001b[0m\u001b[0mget\u001b[0m\u001b[1;33m(\u001b[0m\u001b[1;33m)\u001b[0m\u001b[1;33m)\u001b[0m\u001b[1;33m\u001b[0m\u001b[0m\n",
      "\u001b[1;32mF:\\ToolsAndServices\\Conda\\lib\\multiprocessing\\pool.py\u001b[0m in \u001b[0;36mget\u001b[1;34m(self, timeout)\u001b[0m\n\u001b[0;32m    600\u001b[0m \u001b[1;33m\u001b[0m\u001b[0m\n\u001b[0;32m    601\u001b[0m     \u001b[1;32mdef\u001b[0m \u001b[0mget\u001b[0m\u001b[1;33m(\u001b[0m\u001b[0mself\u001b[0m\u001b[1;33m,\u001b[0m \u001b[0mtimeout\u001b[0m\u001b[1;33m=\u001b[0m\u001b[1;32mNone\u001b[0m\u001b[1;33m)\u001b[0m\u001b[1;33m:\u001b[0m\u001b[1;33m\u001b[0m\u001b[0m\n\u001b[1;32m--> 602\u001b[1;33m         \u001b[0mself\u001b[0m\u001b[1;33m.\u001b[0m\u001b[0mwait\u001b[0m\u001b[1;33m(\u001b[0m\u001b[0mtimeout\u001b[0m\u001b[1;33m)\u001b[0m\u001b[1;33m\u001b[0m\u001b[0m\n\u001b[0m\u001b[0;32m    603\u001b[0m         \u001b[1;32mif\u001b[0m \u001b[1;32mnot\u001b[0m \u001b[0mself\u001b[0m\u001b[1;33m.\u001b[0m\u001b[0mready\u001b[0m\u001b[1;33m(\u001b[0m\u001b[1;33m)\u001b[0m\u001b[1;33m:\u001b[0m\u001b[1;33m\u001b[0m\u001b[0m\n\u001b[0;32m    604\u001b[0m             \u001b[1;32mraise\u001b[0m \u001b[0mTimeoutError\u001b[0m\u001b[1;33m\u001b[0m\u001b[0m\n",
      "\u001b[1;32mF:\\ToolsAndServices\\Conda\\lib\\multiprocessing\\pool.py\u001b[0m in \u001b[0;36mwait\u001b[1;34m(self, timeout)\u001b[0m\n\u001b[0;32m    597\u001b[0m \u001b[1;33m\u001b[0m\u001b[0m\n\u001b[0;32m    598\u001b[0m     \u001b[1;32mdef\u001b[0m \u001b[0mwait\u001b[0m\u001b[1;33m(\u001b[0m\u001b[0mself\u001b[0m\u001b[1;33m,\u001b[0m \u001b[0mtimeout\u001b[0m\u001b[1;33m=\u001b[0m\u001b[1;32mNone\u001b[0m\u001b[1;33m)\u001b[0m\u001b[1;33m:\u001b[0m\u001b[1;33m\u001b[0m\u001b[0m\n\u001b[1;32m--> 599\u001b[1;33m         \u001b[0mself\u001b[0m\u001b[1;33m.\u001b[0m\u001b[0m_event\u001b[0m\u001b[1;33m.\u001b[0m\u001b[0mwait\u001b[0m\u001b[1;33m(\u001b[0m\u001b[0mtimeout\u001b[0m\u001b[1;33m)\u001b[0m\u001b[1;33m\u001b[0m\u001b[0m\n\u001b[0m\u001b[0;32m    600\u001b[0m \u001b[1;33m\u001b[0m\u001b[0m\n\u001b[0;32m    601\u001b[0m     \u001b[1;32mdef\u001b[0m \u001b[0mget\u001b[0m\u001b[1;33m(\u001b[0m\u001b[0mself\u001b[0m\u001b[1;33m,\u001b[0m \u001b[0mtimeout\u001b[0m\u001b[1;33m=\u001b[0m\u001b[1;32mNone\u001b[0m\u001b[1;33m)\u001b[0m\u001b[1;33m:\u001b[0m\u001b[1;33m\u001b[0m\u001b[0m\n",
      "\u001b[1;32mF:\\ToolsAndServices\\Conda\\lib\\threading.py\u001b[0m in \u001b[0;36mwait\u001b[1;34m(self, timeout)\u001b[0m\n\u001b[0;32m    549\u001b[0m             \u001b[0msignaled\u001b[0m \u001b[1;33m=\u001b[0m \u001b[0mself\u001b[0m\u001b[1;33m.\u001b[0m\u001b[0m_flag\u001b[0m\u001b[1;33m\u001b[0m\u001b[0m\n\u001b[0;32m    550\u001b[0m             \u001b[1;32mif\u001b[0m \u001b[1;32mnot\u001b[0m \u001b[0msignaled\u001b[0m\u001b[1;33m:\u001b[0m\u001b[1;33m\u001b[0m\u001b[0m\n\u001b[1;32m--> 551\u001b[1;33m                 \u001b[0msignaled\u001b[0m \u001b[1;33m=\u001b[0m \u001b[0mself\u001b[0m\u001b[1;33m.\u001b[0m\u001b[0m_cond\u001b[0m\u001b[1;33m.\u001b[0m\u001b[0mwait\u001b[0m\u001b[1;33m(\u001b[0m\u001b[0mtimeout\u001b[0m\u001b[1;33m)\u001b[0m\u001b[1;33m\u001b[0m\u001b[0m\n\u001b[0m\u001b[0;32m    552\u001b[0m             \u001b[1;32mreturn\u001b[0m \u001b[0msignaled\u001b[0m\u001b[1;33m\u001b[0m\u001b[0m\n\u001b[0;32m    553\u001b[0m \u001b[1;33m\u001b[0m\u001b[0m\n",
      "\u001b[1;32mF:\\ToolsAndServices\\Conda\\lib\\threading.py\u001b[0m in \u001b[0;36mwait\u001b[1;34m(self, timeout)\u001b[0m\n\u001b[0;32m    293\u001b[0m         \u001b[1;32mtry\u001b[0m\u001b[1;33m:\u001b[0m    \u001b[1;31m# restore state no matter what (e.g., KeyboardInterrupt)\u001b[0m\u001b[1;33m\u001b[0m\u001b[0m\n\u001b[0;32m    294\u001b[0m             \u001b[1;32mif\u001b[0m \u001b[0mtimeout\u001b[0m \u001b[1;32mis\u001b[0m \u001b[1;32mNone\u001b[0m\u001b[1;33m:\u001b[0m\u001b[1;33m\u001b[0m\u001b[0m\n\u001b[1;32m--> 295\u001b[1;33m                 \u001b[0mwaiter\u001b[0m\u001b[1;33m.\u001b[0m\u001b[0macquire\u001b[0m\u001b[1;33m(\u001b[0m\u001b[1;33m)\u001b[0m\u001b[1;33m\u001b[0m\u001b[0m\n\u001b[0m\u001b[0;32m    296\u001b[0m                 \u001b[0mgotit\u001b[0m \u001b[1;33m=\u001b[0m \u001b[1;32mTrue\u001b[0m\u001b[1;33m\u001b[0m\u001b[0m\n\u001b[0;32m    297\u001b[0m             \u001b[1;32melse\u001b[0m\u001b[1;33m:\u001b[0m\u001b[1;33m\u001b[0m\u001b[0m\n",
      "\u001b[1;31mKeyboardInterrupt\u001b[0m: "
     ]
    }
   ],
   "source": [
    "%%time\n",
    "#sources http://scikit-learn.org/stable/modules/sgd.html\n",
    "#running gridsearchCV on a generic SGCclassifier to seek out optmized meta-paramaters\n",
    "#########GRIDSEARCH##########################\n",
    "from sklearn.model_selection import GridSearchCV\n",
    "\n",
    "def binary_log_reg(X_train, Y_train, X_test, Y_test):\n",
    "    alpha_arr = [10 ** x for x in range(-6, 1)]\n",
    "    param_grid = {\n",
    "        'alpha': alpha_arr\n",
    "    }\n",
    "    SGC_generic = SGDClassifier(loss='log', random_state=0)\n",
    "    SGC_generic_gridsearch = grid_search.GridSearchCV(estimator=SGC_generic, param_grid=param_grid,\n",
    "                                        n_jobs=4, scoring='accuracy', cv=3)\n",
    "\n",
    "    SGC_generic_gridsearch.fit(X=X_train, y=Y_train)\n",
    "    print (\"The best estimators are: \")\n",
    "    print (SGC_generic_gridsearch.best_estimator_)\n",
    "\n",
    "    print (\"Test with best estimator: \")\n",
    "    print(accuracy_score(Y_test, SGC_generic_gridsearch.best_estimator_.predict(X_test)))\n",
    "\n",
    "    plt.figure(1)\n",
    "    plt.plot(alpha_arr, SGC_generic_gridsearch.cv_results_['mean_train_score'], color='blue', lw=2, marker='o', label=\"Mean Training Acc\")\n",
    "    plt.plot(alpha_arr, SGC_generic_gridsearch.cv_results_['mean_test_score'], color='red', lw=2, marker='o', label=\"Mean Testing Acc\")\n",
    "\n",
    "    ax = plt.gca()\n",
    "    ax.set_xscale('log')\n",
    "\n",
    "    plt.xlabel(\"Alpha\")\n",
    "    plt.ylabel(\"Acc\")\n",
    "    plt.title(\"Alpha vs Mean Accuracy Logistic Regression\")\n",
    "    plt.legend(loc='upper right')\n",
    "    plt.show()\n",
    "    \n",
    "binary_log_reg(X_train, Y_train, X_test, Y_test)"
   ]
  },
  {
   "cell_type": "markdown",
   "metadata": {},
   "source": [
    "### Decision Tree"
   ]
  },
  {
   "cell_type": "code",
   "execution_count": 15,
   "metadata": {},
   "outputs": [
    {
     "name": "stdout",
     "output_type": "stream",
     "text": [
      "DecisionTreeClassifier(class_weight=None, criterion='gini', max_depth=1,\n",
      "            max_features=None, max_leaf_nodes=None,\n",
      "            min_impurity_decrease=0.0, min_impurity_split=None,\n",
      "            min_samples_leaf=1, min_samples_split=2,\n",
      "            min_weight_fraction_leaf=0.0, presort=False, random_state=None,\n",
      "            splitter='best')\n",
      "Test accuracy with best estimator\n",
      "0.9808705025300303\n",
      "Working on first plot\n"
     ]
    },
    {
     "data": {
      "image/png": "[encoded data removed]",
      "text/plain": [
       "<matplotlib.figure.Figure at 0x1c74f70780>"
      ]
     },
     "metadata": {},
     "output_type": "display_data"
    },
    {
     "name": "stdout",
     "output_type": "stream",
     "text": [
      "Working on second plot\n"
     ]
    },
    {
     "data": {
      "image/png": "[encoded data removed]",
      "text/plain": [
       "<matplotlib.figure.Figure at 0x1106a0da0>"
      ]
     },
     "metadata": {},
     "output_type": "display_data"
    },
    {
     "name": "stdout",
     "output_type": "stream",
     "text": [
      "CPU times: user 1min 19s, sys: 22.5 s, total: 1min 42s\n",
      "Wall time: 14min 48s\n"
     ]
    }
   ],
   "source": [
    "%%time\n",
    "from sklearn.metrics import roc_curve, auc\n",
    "from sklearn.model_selection import GridSearchCV\n",
    "\n",
    "def decision_tree(X_train, Y_train, X_test, Y_test, title):\n",
    "    # from sklearn import grid_search\n",
    "    depth_arr = np.arange(1,27, 5)\n",
    "    ###############GridsearchCV#############\n",
    "    param_grid = {'max_depth': depth_arr\n",
    "                  #'min_samples_leaf':[1**x for x in range(1,10)]\n",
    "                 }\n",
    "    generic_tree = DecisionTreeClassifier()\n",
    "    gridsearch_generic_tree = GridSearchCV(estimator=generic_tree, param_grid=param_grid, \n",
    "                                                       n_jobs=-1, scoring='accuracy', return_train_score=True, cv=3);\n",
    "    gridsearch_generic_tree.fit(X=X_train, y=Y_train)\n",
    "\n",
    "    #print(\"The best estimators are: \")\n",
    "    print(gridsearch_generic_tree.best_estimator_)\n",
    "\n",
    "    print(\"Test accuracy with best estimator\")\n",
    "    print(accuracy_score(Y_test, gridsearch_generic_tree.predict(X_test)))\n",
    "    #######################################\n",
    "\n",
    "    print(\"Working on first plot\")\n",
    "    plt.figure(1)\n",
    "    plt.plot(depth_arr, gridsearch_generic_tree.cv_results_['mean_train_score'], color='blue', lw=2, marker='o', label=\"Mean Training Acc\")\n",
    "    plt.plot(depth_arr, gridsearch_generic_tree.cv_results_['mean_test_score'], color='red', lw=2, marker='o', label=\"Mean Testing Acc\")\n",
    "\n",
    "    plt.xlabel(\"Maximum Depth\")\n",
    "    plt.ylabel(\"Accuracy\")\n",
    "    plt.title(\"Maximum Depth vs Accuracy Decision Tree \" + title)\n",
    "    plt.legend(loc='center right')\n",
    "    plt.show()\n",
    "    \n",
    "    print(\"Working on second plot\")\n",
    "    # ROC stuff\n",
    "    # http://scikit-learn.org/stable/auto_examples/model_selection/plot_roc.html#sphx-glr-auto-examples-model-selection-plot-roc-py\n",
    "    fpr, tpr, _ = roc_curve(Y_test, gridsearch_generic_tree.predict_proba(X_test)[:,1], pos_label=1)\n",
    "    roc_auc = auc(fpr, tpr)\n",
    "\n",
    "    plt.figure(2)\n",
    "    plt.plot(fpr, tpr, color='red', lw=2, label='ROC curve (area = %f)' % roc_auc)\n",
    "    plt.plot([0, 1], [0, 1], lw=2, color='blue', linestyle='--')\n",
    "    plt.xlim([0.0, 1.0])\n",
    "    plt.ylim([0.0, 1.05])\n",
    "    plt.xlabel('False Positive Rate')\n",
    "    plt.ylabel('True Positive Rate')\n",
    "    plt.title('ROC Decision Tree ' + title)\n",
    "    plt.legend(loc=\"lower right\")\n",
    "    plt.show()\n",
    "    \n",
    "decision_tree(X_train, Y_train, X_test, Y_test, \"Suicide\")"
   ]
  },
  {
   "cell_type": "markdown",
   "metadata": {},
   "source": [
    "### Feature Importances"
   ]
  },
  {
   "cell_type": "code",
   "execution_count": 28,
   "metadata": {},
   "outputs": [
    {
     "name": "stdout",
     "output_type": "stream",
     "text": [
      "Feature Importances for last run\n",
      "1. feature detail_age (0.729604)\n",
      "2. feature education (0.095727)\n",
      "3. feature binary_black (0.086392)\n",
      "4. feature binary_male (0.063544)\n",
      "5. feature binary_hispanic (0.019593)\n",
      "6. feature month_of_death (0.002581)\n",
      "7. feature binary_asian (0.001825)\n",
      "8. feature binary_white (0.000733)\n"
     ]
    },
    {
     "data": {
      "image/png": "[encoded data removed]",
      "text/plain": [
       "<matplotlib.figure.Figure at 0x1e500129518>"
      ]
     },
     "metadata": {},
     "output_type": "display_data"
    }
   ],
   "source": [
    "def feature_importances(X_train, Y_train, X_test, Y_test, title):\n",
    "\n",
    "    # Max depth taken from best gridsearch params\n",
    "    clf = DecisionTreeClassifier(random_state=0, max_depth=10)\n",
    "    clf.fit(X_train, Y_train)\n",
    "    \n",
    "    features = [types for types in df.dtypes.index if \"Unnamed\" not in types]\n",
    "    importances = clf.feature_importances_\n",
    "    indices = np.argsort(importances)[::-1]\n",
    "    ordered_features = list()\n",
    "    print(\"Feature Importances for last run\")\n",
    "    for f in range(X_train.shape[1]):\n",
    "        print(\"%d. feature %s (%f)\" % (f + 1, features[indices[f]], importances[indices[f]]))\n",
    "        ordered_features.append(features[indices[f]])\n",
    "\n",
    "    #Attemptin to graph importances.\n",
    "    plt.figure()\n",
    "    plt.title(\"Feature importances: \" + title)\n",
    "    plt.bar(range(X_train.shape[1]), importances[indices],\n",
    "           color=\"orange\", align=\"center\")\n",
    "    plt.xticks(range(X_train.shape[1]), ordered_features, rotation='vertical')\n",
    "    plt.xlim([-1, X_train.shape[1]])\n",
    "    plt.show()\n",
    "    \n",
    "feature_importances(X_train, Y_train, X_test, Y_test, \"Suicide\")"
   ]
  },
  {
   "cell_type": "markdown",
   "metadata": {},
   "source": [
    "# Predicting Murder vs Non-Murder"
   ]
  },
  {
   "cell_type": "markdown",
   "metadata": {},
   "source": [
    "### Setting up training and test sets"
   ]
  },
  {
   "cell_type": "code",
   "execution_count": null,
   "metadata": {
    "collapsed": true
   },
   "outputs": [],
   "source": [
    "# Y is 1 only if murder\n",
    "Y_train = np.where(train.iloc[:,len(train.columns)-1] == 3, 1, 0)\n",
    "X_train = train.iloc[:,1:(len(train.columns)-1)]\n",
    "Y_test = np.where(test.iloc[:,len(test.columns)-1] == 3, 1, 0)\n",
    "X_test = test.iloc[:,1:(len(test.columns)-1)]"
   ]
  },
  {
   "cell_type": "markdown",
   "metadata": {},
   "source": [
    "### Decision Tree"
   ]
  },
  {
   "cell_type": "code",
   "execution_count": null,
   "metadata": {
    "collapsed": true
   },
   "outputs": [],
   "source": [
    "#Checking Feature importances\n",
    "#THIS CELL DOES NOT WORK. Re-org needed.\n",
    "\n",
    "features = [types for types in df.dtypes.index if \"Unnamed\" not in types]\n",
    "importances = rforest.feature_importances_\n",
    "\n",
    "indices = np.argsort(importances)[::-1]\n",
    "for f in range(X_train.shape[1]):\n",
    "    print(\"%d. feature %s (%f)\" % (f + 1, features[f], importances[indices[f]]))\n",
    "\n",
    "std = np.std([tree.feature_importances_ for tree in forest.estimators_],\n",
    "             axis=0)\n",
    "\n",
    "#Attemptin to graph importances.\n",
    "plt.figure()\n",
    "plt.title(\"Feature importances (Random Forest)\")\n",
    "plt.bar(range(X_train.shape[1]), importances[indices],\n",
    "       color=\"orange\", yerr=std[indices], align=\"center\")\n",
    "plt.xticks(range(X_train.shape[1]), indices, rotation='vertical')\n",
    "plt.xlim([-1, X_train.shape[1]])\n",
    "plt.show()"
   ]
  },
  {
   "cell_type": "markdown",
   "metadata": {},
   "source": [
    "### Feature Importances"
   ]
  },
  {
   "cell_type": "code",
   "execution_count": 29,
   "metadata": {},
   "outputs": [
    {
     "name": "stdout",
     "output_type": "stream",
     "text": [
      "Feature Importances for last run\n",
      "1. feature detail_age (0.729604)\n",
      "2. feature education (0.095727)\n",
      "3. feature binary_black (0.086392)\n",
      "4. feature binary_male (0.063544)\n",
      "5. feature binary_hispanic (0.019593)\n",
      "6. feature month_of_death (0.002581)\n",
      "7. feature binary_asian (0.001825)\n",
      "8. feature binary_white (0.000733)\n"
     ]
    },
    {
     "data": {
      "image/png": "[encoded data removed]",
      "text/plain": [
       "<matplotlib.figure.Figure at 0x1e500034ef0>"
      ]
     },
     "metadata": {},
     "output_type": "display_data"
    }
   ],
   "source": [
    "feature_importances(X_train, Y_train, X_test, Y_test, \"Murder\")"
   ]
  },
  {
   "cell_type": "markdown",
   "metadata": {},
   "source": [
    "# Multiclass Classification"
   ]
  },
  {
   "cell_type": "markdown",
   "metadata": {},
   "source": [
    "### Setting up training and test sets"
   ]
  },
  {
   "cell_type": "code",
   "execution_count": 33,
   "metadata": {
    "collapsed": true
   },
   "outputs": [],
   "source": [
    "# No longer binarizing Y vectors (Multi-class)\n",
    "Y_train = train.iloc[:,len(train.columns)-1]\n",
    "X_train = train.iloc[:,1:(len(train.columns)-1)]\n",
    "Y_test = test.iloc[:,len(test.columns)-1]\n",
    "X_test = test.iloc[:,1:(len(test.columns)-1)]\n"
   ]
  },
  {
   "cell_type": "code",
   "execution_count": null,
   "metadata": {
    "collapsed": true
   },
   "outputs": [],
   "source": [
    "X_test"
   ]
  },
  {
   "cell_type": "markdown",
   "metadata": {},
   "source": [
    "### One vs Rest Multiclass using Decision Trees"
   ]
  },
  {
   "cell_type": "code",
   "execution_count": 34,
   "metadata": {},
   "outputs": [
    {
     "data": {
      "image/png": "[encoded data removed]",
      "text/plain": [
       "<matplotlib.figure.Figure at 0x1e5001e37f0>"
      ]
     },
     "metadata": {},
     "output_type": "display_data"
    }
   ],
   "source": [
    "from sklearn.multiclass import OneVsRestClassifier\n",
    "from sklearn.metrics import roc_curve, auc\n",
    "from sklearn.preprocessing import label_binarize\n",
    "# Example from\n",
    "# http://scikit-learn.org/stable/auto_examples/model_selection/plot_roc.html#sphx-glr-auto-examples-model-selection-plot-roc-py\n",
    "\n",
    "# Must use 1 vs rest as ROC doesn't do \"actual\" multiclass\n",
    "classifier = OneVsRestClassifier(DecisionTreeClassifier(max_depth=10), n_jobs=6)\n",
    "# Must also binarize y_test for onevsrest\n",
    "binary_y_test = label_binarize(Y_test, classes=[1, 2, 3, 4, 5, 7])\n",
    "\n",
    "classifier.fit(X_train, Y_train)\n",
    "y_score = classifier.predict_proba(X_test)\n",
    "n_classes = 6\n",
    "\n",
    "# Compute ROC curve and ROC area for each class\n",
    "fpr = dict()\n",
    "tpr = dict()\n",
    "roc_auc = dict()\n",
    "# For all classes, calculate and store true, false positive rate, area under curve\n",
    "for i in range(n_classes):\n",
    "    fpr[i], tpr[i], _ = roc_curve(binary_y_test[:, i], y_score[:, i])\n",
    "    roc_auc[i] = auc(fpr[i], tpr[i])\n",
    "\n",
    "# Plot all ROC curves\n",
    "plt.figure()\n",
    "colors = ['red', 'blue', 'green', 'purple', 'orange', 'pink']\n",
    "labels = ['Accident', 'Suicide', 'Homicide', 'Pending investigation', 'Could not determine', 'Natural']\n",
    "for i, color in zip(range(n_classes), colors):\n",
    "    plt.plot(fpr[i], tpr[i], color=color, lw=2,\n",
    "             label='{0} ({1:0.2f})'\n",
    "             ''.format(labels[i], roc_auc[i]))\n",
    "\n",
    "plt.plot([0, 1], [0, 1], 'k--', lw=2)\n",
    "plt.xlim([0.0, 1.0])\n",
    "plt.ylim([0.0, 1.05])\n",
    "plt.xlabel('False Positive Rate')\n",
    "plt.ylabel('True Positive Rate')\n",
    "plt.title('ROC Curve Multiclass Decision Tree')\n",
    "plt.legend(loc=\"lower right\")\n",
    "plt.show()"
   ]
  },
  {
   "cell_type": "code",
   "execution_count": null,
   "metadata": {},
   "outputs": [],
   "source": [
    "feature_importances(X_train, Y_train, X_test, Y_test, \"Decision Tree -- Multi-class\")"
   ]
  },
  {
   "cell_type": "markdown",
   "metadata": {},
   "source": [
    "### Random Forest Classifier"
   ]
  },
  {
   "cell_type": "code",
   "execution_count": 38,
   "metadata": {},
   "outputs": [
    {
     "data": {
      "image/png": "[encoded data removed]",
      "text/plain": [
       "<matplotlib.figure.Figure at 0x1e52835d128>"
      ]
     },
     "metadata": {},
     "output_type": "display_data"
    }
   ],
   "source": [
    "from sklearn.multiclass import OneVsRestClassifier\n",
    "from sklearn.metrics import roc_curve, auc\n",
    "from sklearn.preprocessing import label_binarize\n",
    "# Example from\n",
    "# http://scikit-learn.org/stable/auto_examples/model_selection/plot_roc.html#sphx-glr-auto-examples-model-selection-plot-roc-py\n",
    "\n",
    "# Must use 1 vs rest as ROC doesn't do \"actual\" multiclass\n",
    "classifier = OneVsRestClassifier(RandomForestClassifier(n_estimators=10, random_state=0, n_jobs=-1), n_jobs=-1)\n",
    "# Must also binarize y_test for onevsrest\n",
    "binary_y_test = label_binarize(Y_test, classes=[1, 2, 3, 4, 5, 7])\n",
    "\n",
    "classifier.fit(X_train, Y_train)\n",
    "y_score = classifier.predict_proba(X_test)\n",
    "n_classes = 6\n",
    "\n",
    "# Compute ROC curve and ROC area for each class\n",
    "fpr = dict()\n",
    "tpr = dict()\n",
    "roc_auc = dict()\n",
    "# For all classes, calculate and store true, false positive rate, area under curve\n",
    "for i in range(n_classes):\n",
    "    fpr[i], tpr[i], _ = roc_curve(binary_y_test[:, i], y_score[:, i])\n",
    "    roc_auc[i] = auc(fpr[i], tpr[i])\n",
    "\n",
    "# Plot all ROC curves\n",
    "plt.figure()\n",
    "colors = ['red', 'blue', 'green', 'purple', 'orange', 'pink']\n",
    "labels = ['Accident', 'Suicide', 'Homicide', 'Pending investigation', 'Could not determine', 'Natural']\n",
    "for i, color in zip(range(n_classes), colors):\n",
    "    plt.plot(fpr[i], tpr[i], color=color, lw=2,\n",
    "             label='{0} ({1:0.2f})'\n",
    "             ''.format(labels[i], roc_auc[i]))\n",
    "\n",
    "plt.plot([0, 1], [0, 1], 'k--', lw=2)\n",
    "plt.xlim([0.0, 1.0])\n",
    "plt.ylim([0.0, 1.05])\n",
    "plt.xlabel('False Positive Rate')\n",
    "plt.ylabel('True Positive Rate')\n",
    "plt.title('ROC Curve Multiclass Decision Tree')\n",
    "plt.legend(loc=\"lower right\")\n",
    "plt.show()"
   ]
  },
  {
   "cell_type": "code",
   "execution_count": 35,
   "metadata": {},
   "outputs": [
    {
     "name": "stdout",
     "output_type": "stream",
     "text": [
      "Wall time: 2min 38s\n"
     ]
    }
   ],
   "source": [
    "%%time\n",
    "############GridsearchCV##########################\n",
    "from sklearn.ensemble import RandomForestClassifier\n",
    "from sklearn import metrics\n",
    "\n",
    "#Using 10 trees. (Will attempt more in the future after tuning. Gridsearch?)\n",
    "rforest = RandomForestClassifier(n_estimators=10, random_state=0, n_jobs=-1)\n",
    "\n",
    "# param_grid = { \n",
    "#     'n_estimators': [1,10,200,700],\n",
    "#     'max_features': ['auto', 'sqrt', 'log2']\n",
    "# }\n",
    "# CV_rfc = GridSearchCV(estimator=rforest, param_grid=param_grid, cv= 5)\n",
    "# CV_rfc.fit(X_train, Y_train)\n",
    "# print (rforest.best_params_)\n",
    "\n",
    "rforest.fit(X_train, Y_train)"
   ]
  },
  {
   "cell_type": "code",
   "execution_count": 36,
   "metadata": {},
   "outputs": [
    {
     "name": "stdout",
     "output_type": "stream",
     "text": [
      "             precision    recall  f1-score   support\n",
      "\n",
      "        1.0       0.47      0.20      0.28    270087\n",
      "        2.0       0.21      0.00      0.01     84321\n",
      "        3.0       0.49      0.23      0.31     40330\n",
      "        4.0       0.07      0.00      0.00     11144\n",
      "        5.0       0.31      0.01      0.02     23994\n",
      "        7.0       0.92      0.99      0.96   3979704\n",
      "\n",
      "avg / total       0.87      0.91      0.88   4409580\n",
      "\n"
     ]
    }
   ],
   "source": [
    "#Get accruacy for random forest.\n",
    "ypred = rforest.predict(X_test)\n",
    "print(metrics.classification_report(Y_test, ypred))"
   ]
  },
  {
   "cell_type": "code",
   "execution_count": 37,
   "metadata": {},
   "outputs": [
    {
     "name": "stdout",
     "output_type": "stream",
     "text": [
      "1. feature binary_male (0.879536)\n",
      "2. feature binary_white (0.041132)\n",
      "3. feature binary_black (0.036461)\n",
      "4. feature binary_asian (0.014784)\n",
      "5. feature binary_hispanic (0.013581)\n",
      "6. feature detail_age (0.007118)\n",
      "7. feature month_of_death (0.005625)\n",
      "8. feature education (0.001763)\n"
     ]
    },
    {
     "ename": "NameError",
     "evalue": "name 'forest' is not defined",
     "output_type": "error",
     "traceback": [
      "\u001b[1;31m---------------------------------------------------------------------------\u001b[0m",
      "\u001b[1;31mNameError\u001b[0m                                 Traceback (most recent call last)",
      "\u001b[1;32m<ipython-input-37-303a0a935489>\u001b[0m in \u001b[0;36m<module>\u001b[1;34m()\u001b[0m\n\u001b[0;32m      8\u001b[0m     \u001b[0mprint\u001b[0m\u001b[1;33m(\u001b[0m\u001b[1;34m\"%d. feature %s (%f)\"\u001b[0m \u001b[1;33m%\u001b[0m \u001b[1;33m(\u001b[0m\u001b[0mf\u001b[0m \u001b[1;33m+\u001b[0m \u001b[1;36m1\u001b[0m\u001b[1;33m,\u001b[0m \u001b[0mfeatures\u001b[0m\u001b[1;33m[\u001b[0m\u001b[0mf\u001b[0m\u001b[1;33m]\u001b[0m\u001b[1;33m,\u001b[0m \u001b[0mimportances\u001b[0m\u001b[1;33m[\u001b[0m\u001b[0mindices\u001b[0m\u001b[1;33m[\u001b[0m\u001b[0mf\u001b[0m\u001b[1;33m]\u001b[0m\u001b[1;33m]\u001b[0m\u001b[1;33m)\u001b[0m\u001b[1;33m)\u001b[0m\u001b[1;33m\u001b[0m\u001b[0m\n\u001b[0;32m      9\u001b[0m \u001b[1;33m\u001b[0m\u001b[0m\n\u001b[1;32m---> 10\u001b[1;33m std = np.std([tree.feature_importances_ for tree in forest.estimators_],\n\u001b[0m\u001b[0;32m     11\u001b[0m              axis=0)\n\u001b[0;32m     12\u001b[0m \u001b[1;33m\u001b[0m\u001b[0m\n",
      "\u001b[1;31mNameError\u001b[0m: name 'forest' is not defined"
     ]
    }
   ],
   "source": [
    "#Checking Feature importances\n",
    "\n",
    "features = [types for types in df.dtypes.index if \"Unnamed\" not in types]\n",
    "importances = rforest.feature_importances_\n",
    "\n",
    "indices = np.argsort(importances)[::-1]\n",
    "for f in range(X_train.shape[1]):\n",
    "    print(\"%d. feature %s (%f)\" % (f + 1, features[f], importances[indices[f]]))\n",
    "\n",
    "std = np.std([tree.feature_importances_ for tree in forest.estimators_],\n",
    "             axis=0)\n",
    "\n",
    "#Attemptin to graph importances.\n",
    "plt.figure()\n",
    "plt.title(\"Feature importances (Random Forest)\")\n",
    "plt.bar(range(X_train.shape[1]), importances[indices],\n",
    "       color=\"orange\", yerr=std[indices], align=\"center\")\n",
    "plt.xticks(range(X_train.shape[1]), indices, rotation='vertical')\n",
    "plt.xlim([-1, X_train.shape[1]])\n",
    "plt.show()"
   ]
  },
  {
   "cell_type": "code",
   "execution_count": null,
   "metadata": {},
   "outputs": [],
   "source": [
    "#Checking Feature importances\n",
    "features = [types for types in df.dtypes.index if \"Unnamed\" not in types]\n",
    "importances = rforest.feature_importances_\n",
    "\n",
    "indices = np.argsort(importances)[::-1]\n",
    "for f in range(X_train.shape[1]):\n",
    "    print(\"%d. feature %s (%f)\" % (f + 1, features[f], importances[indices[f]]))\n",
    "\n",
    "\n",
    "#Attemptin to graph importances.\n",
    "plt.figure()\n",
    "plt.title(\"Feature importances (Random Forest)\")\n",
    "plt.bar(range(X_train.shape[1]), importances[indices],\n",
    "       color=\"orange\", yerr=std[indices], align=\"center\")\n",
    "plt.xticks(range(X_train.shape[1]), indices, rotation='vertical')\n",
    "plt.xlim([-1, X_train.shape[1]])\n",
    "plt.show()"
   ]
  },
  {
   "cell_type": "code",
   "execution_count": null,
   "metadata": {},
   "outputs": [],
   "source": [
    "#Attempt at confusion matrix. Need to clean this up a bit.\n",
    "from sklearn.metrics import confusion_matrix\n",
    "import seaborn as sns; sns.set()\n",
    "\n",
    "mat = confusion_matrix(Y_test, ypred)\n",
    "sns.heatmap(mat.T, square=True, annot=True, fmt='d', cbar=False)\n",
    "plt.xlabel('true label')\n",
    "plt.ylabel('predicted label')\n",
    "plt.show()"
   ]
  },
  {
   "cell_type": "markdown",
   "metadata": {},
   "source": [
    "# Unsupervised Analysis"
   ]
  },
  {
   "cell_type": "code",
   "execution_count": null,
   "metadata": {
    "collapsed": true
   },
   "outputs": [],
   "source": [
    "import json\n",
    "\n",
    "with open('./mortality/2015_codes.json') as f:\n",
    "    d = json.load(f)\n",
    "#     if(d): \n",
    "#         print(d)"
   ]
  },
  {
   "cell_type": "markdown",
   "metadata": {
    "collapsed": true
   },
   "source": [
    "## K-Means Clustering"
   ]
  },
  {
   "cell_type": "code",
   "execution_count": null,
   "metadata": {},
   "outputs": [],
   "source": [
    "from sklearn.cluster import KMeans\n",
    "##########GridsearchCV###########\n",
    "param_grid= {\n",
    "    'algorithm':[ 'auto', 'full', 'elkan'],\n",
    "    'max_iter':[300, 400, 500, 600],\n",
    "    'n_clusters':[x for x in range(1, 10)]\n",
    "}\n",
    "generic_kmeans = KMeans()\n",
    "\n",
    "kmeans_generic_gridsearch = grid_search.GridSearchCV(estimator=generic_kmeans, param_grid=param_grid,\n",
    "                                    n_jobs=-1, cv= 5)\n",
    "\n",
    "kmeans_generic_gridsearch.fit(X=X_train, y=Y_train)\n",
    "print (\"The best estimators are: \")\n",
    "print (kmeans_generic_gridsearch.best_estimator_)\n",
    "#################################"
   ]
  },
  {
   "cell_type": "code",
   "execution_count": null,
   "metadata": {},
   "outputs": [],
   "source": [
    "matrix = df.as_matrix()\n",
    "kmeans = KMeans(n_clusters = 3)\n",
    "kmeans.fit(matrix)"
   ]
  },
  {
   "cell_type": "code",
   "execution_count": null,
   "metadata": {},
   "outputs": [],
   "source": [
    "plt.scatter(matrix[:,6], matrix[:,7], c=kmeans.labels_, cmap='rainbow')\n",
    "plt.xlim(right = 150)\n",
    "plt.xlim(left = 0)\n",
    "plt.xlabel('Age')\n",
    "plt.ylabel('Month of Death')\n",
    "plt.title('Month of Death vs. Age 3-Cluster')"
   ]
  },
  {
   "cell_type": "code",
   "execution_count": null,
   "metadata": {},
   "outputs": [],
   "source": [
    "import matplotlib.pyplot as plt\n",
    "from mpl_toolkits.mplot3d import Axes3D\n",
    "\n",
    "print(sample)\n",
    "\n",
    "fig = plt.figure()\n",
    "ax = fig.add_subplot(111, projection = '3d')\n",
    "ax.scatter(matrix[:,6], matrix[:,7], matrix[:,9], c = kmeans.labels_, cmap = 'rainbow')\n",
    "\n",
    "ax.set_xlabel('Age')\n",
    "ax.set_ylabel('Month of Death')\n",
    "ax.set_zlabel('Cause of Death')\n",
    "\n",
    "ax.set_xlim(0, 150)"
   ]
  },
  {
   "cell_type": "code",
   "execution_count": null,
   "metadata": {
    "collapsed": true
   },
   "outputs": [],
   "source": [
    "kcluster = range(1,7)\n",
    "kmeans_arr = []\n",
    "kmeans_score = []\n",
    "\n",
    "for k in kcluster:\n",
    "    kmeans_arr.append(KMeans(n_clusters = k))\n",
    "    kmeans_score.append(kmeans_arr[k-1].fit(matrix).score(matrix))"
   ]
  },
  {
   "cell_type": "code",
   "execution_count": null,
   "metadata": {},
   "outputs": [],
   "source": [
    "plt.plot(kcluster,kmeans_score)\n",
    "plt.xlabel('# of Clusters')\n",
    "plt.ylabel('K-Means Score')\n",
    "plt.title('Score vs. # of Clusters')\n",
    "plt.show()"
   ]
  },
  {
   "cell_type": "code",
   "execution_count": null,
   "metadata": {},
   "outputs": [],
   "source": [
    "df.corr(method='pearson')**2"
   ]
  },
  {
   "cell_type": "code",
   "execution_count": null,
   "metadata": {},
   "outputs": [],
   "source": [
    "plt.scatter(matrix[:,6], matrix[:,9], c=kmeans.labels_, cmap='rainbow')\n",
    "plt.xlim(right = 150)\n",
    "plt.xlim(left = 0)\n",
    "plt.xlabel('Age')\n",
    "plt.ylabel('Cause of Death')\n",
    "plt.title('Cause of Death vs. Age 3-Cluster')"
   ]
  },
  {
   "cell_type": "markdown",
   "metadata": {
    "collapsed": true
   },
   "source": [
    "# Backup Cells"
   ]
  },
  {
   "cell_type": "markdown",
   "metadata": {},
   "source": [
    "### ROC (Binary)"
   ]
  },
  {
   "cell_type": "code",
   "execution_count": null,
   "metadata": {},
   "outputs": [],
   "source": [
    "# ROC stuff\n",
    "# http://scikit-learn.org/stable/auto_examples/model_selection/plot_roc.html#sphx-glr-auto-examples-model-selection-plot-roc-py\n",
    "from sklearn.metrics import roc_curve, auc\n",
    "fpr, tpr, _ = roc_curve(Y_test, clf.predict_proba(X_test)[:,1], pos_label=1)\n",
    "roc_auc = auc(fpr, tpr)\n",
    "\n",
    "plt.figure(2)\n",
    "plt.plot(fpr, tpr, color='red', lw=2, label='ROC curve (area = %f)' % roc_auc)\n",
    "plt.plot([0, 1], [0, 1], lw=2, color='blue', linestyle='--')\n",
    "plt.xlim([0.0, 1.0])\n",
    "plt.ylim([0.0, 1.05])\n",
    "plt.xlabel('False Positive Rate')\n",
    "plt.ylabel('True Positive Rate')\n",
    "plt.title('ROC Decision Tree Homicide vs Non-Homicide')\n",
    "plt.legend(loc=\"lower right\")\n",
    "plt.show()"
   ]
  },
  {
   "cell_type": "markdown",
   "metadata": {},
   "source": [
    "### Multinomial Logistic Regression"
   ]
  },
  {
   "cell_type": "code",
   "execution_count": null,
   "metadata": {},
   "outputs": [],
   "source": [
    "#c_arr = [0.0001,0.001,0.01,0.1,1.0,10.0,100.0]\n",
    "'''\n",
    "c_arr = [1.0]\n",
    "train_acc = []\n",
    "test_acc = []\n",
    "for c in c_arr:    \n",
    "    classifier = LogisticRegression(multi_class='multinomial', solver='lbfgs', random_state=123, C=c)\n",
    "    classifier.fit(X_train, Y_train)\n",
    "    # Add to accuracy lists\n",
    "    train_acc.append(accuracy_score(Y_train, classifier.predict(X_train)))\n",
    "    test_acc.append(accuracy_score(Y_test, classifier.predict(X_test)))\n",
    "'''\n",
    "plt.figure(1)\n",
    "plt.plot(c_arr, train_acc, color='blue', lw=2, marker='o', label=\"Training Accuracy\")\n",
    "plt.plot(c_arr, test_acc, color='red', lw=2, marker='o', label=\"Testing Accuracy\")\n",
    "\n",
    "plt.xlabel(\"Alpha\")\n",
    "plt.ylabel(\"Accuracy\")\n",
    "plt.title(\"Alpha vs Accuracy Multinomial Logistic Regression\")\n",
    "plt.legend(loc='upper right')\n",
    "plt.show()\n",
    "\n",
    "print(train_acc)\n",
    "print(test_acc)"
   ]
  },
  {
   "cell_type": "markdown",
   "metadata": {},
   "source": [
    "### Linear SVM"
   ]
  },
  {
   "cell_type": "code",
   "execution_count": null,
   "metadata": {},
   "outputs": [],
   "source": [
    "svm_fn = 'svm_gridsearch_output.pkl'\n",
    "##########GridsearchCV######################\n",
    "# Base svm classifier\n",
    "base_classifier = SGDClassifier(max_iter=1000, tol=1.0e-12, random_state=123)\n",
    "# Define alpha as param to search over\n",
    "svm_alpha_arr = np.asarray([0.0001, 0.001, 0.01, 0.1, 1.0])\n",
    "params = {'alpha': svm_alpha_arr}\n",
    "# Fit to training data, 5 fold CV\n",
    "gs_classifier = GridSearchCV(base_classifier, params, scoring='accuracy', cv=5)\n",
    "gs_classifier.fit(X_train, Y_train)\n",
    "\n",
    "print(\"Best parameter settings:\", gs_classifier.best_params_)\n",
    "print(\"Validation accuracy: %0.6f\" % gs_classifier.best_score_)\n",
    "print(\"Test accuracy: %0.6f\" % accuracy_score(Y_test, gs_classifier.predict(X_test)))\n",
    "##########################################\n",
    "# Save output dict just in case\n",
    "# https://stackoverflow.com/questions/19201290/how-to-save-a-dictionary-to-a-filew\n",
    "with open(svm_fn, 'wb') as f:\n",
    "    pickle.dump(gs_classifier.cv_results_, f)"
   ]
  },
  {
   "cell_type": "code",
   "execution_count": null,
   "metadata": {},
   "outputs": [],
   "source": [
    "# Load data\n",
    "svm_res = {}\n",
    "with open(log_reg_fn, 'rb') as f:\n",
    "    svm = pickle.load(f)\n",
    "    \n",
    "plt.figure(1)\n",
    "plt.plot(svm_alpha_arr, svm_res['mean_train_score'], color='blue', lw=2, marker='o', label=\"Mean Training Accuracy\")\n",
    "plt.plot(svm_alpha_arr, svm_res['mean_test_score'], color='red', lw=2, marker='o', label=\"Mean Testing Accuracy\")\n",
    "\n",
    "plt.xlabel(\"Alpha\")\n",
    "plt.ylabel(\"Accuracy\")\n",
    "plt.title(\"Alpha vs Accuracy Linear Regression\")\n",
    "plt.legend(loc='upper right')\n",
    "plt.show()"
   ]
  }
 ],
 "metadata": {
  "kernelspec": {
   "display_name": "Python 3",
   "language": "python",
   "name": "python3"
  },
  "language_info": {
   "codemirror_mode": {
    "name": "ipython",
    "version": 3
   },
   "file_extension": ".py",
   "mimetype": "text/x-python",
   "name": "python",
   "nbconvert_exporter": "python",
   "pygments_lexer": "ipython3",
   "version": "3.6.1"
  }
 },
 "nbformat": 4,
 "nbformat_minor": 2
}
